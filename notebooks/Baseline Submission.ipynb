{
 "cells": [
  {
   "cell_type": "code",
   "execution_count": 9,
   "metadata": {},
   "outputs": [],
   "source": [
    "import pandas as pd\n",
    "import numpy as np\n",
    "\n",
    "from matplotlib.pyplot import plot as plt\n",
    "from sklearn.model_selection import train_test_split, KFold\n",
    "%matplotlib inline"
   ]
  },
  {
   "cell_type": "code",
   "execution_count": 10,
   "metadata": {},
   "outputs": [],
   "source": [
    "train_df = pd.read_csv('../input/train.csv')\n",
    "test_df = pd.read_csv('../input/test.csv')"
   ]
  },
  {
   "cell_type": "code",
   "execution_count": 11,
   "metadata": {},
   "outputs": [],
   "source": [
    "import seaborn as sns\n",
    "import xgboost as xgb"
   ]
  },
  {
   "cell_type": "code",
   "execution_count": null,
   "metadata": {},
   "outputs": [],
   "source": []
  },
  {
   "cell_type": "code",
   "execution_count": 7,
   "metadata": {},
   "outputs": [],
   "source": []
  },
  {
   "cell_type": "code",
   "execution_count": 14,
   "metadata": {},
   "outputs": [],
   "source": [
    "mat = train_df.drop(['ID','target'], axis=1).values\n",
    "labels = train_df['target'].values"
   ]
  },
  {
   "cell_type": "code",
   "execution_count": 15,
   "metadata": {},
   "outputs": [],
   "source": [
    "train_mat, test_mat, train_labels, test_labels = train_test_split(mat, labels, test_size = 0.1, random_state=20)"
   ]
  },
  {
   "cell_type": "markdown",
   "metadata": {},
   "source": [
    "### Create baseline using xgboost"
   ]
  },
  {
   "cell_type": "code",
   "execution_count": 17,
   "metadata": {},
   "outputs": [],
   "source": [
    "def run_xgb(train_X, train_y, val_X, val_y, test_X):\n",
    "    params = {\n",
    "          'objective': 'reg:linear', \n",
    "          'eval_metric': 'rmse',\n",
    "          'eta': 0.001,\n",
    "          'max_depth': 10, \n",
    "          'subsample': 0.6, \n",
    "          'colsample_bytree': 0.6,\n",
    "          'alpha':0.001,\n",
    "          'random_state': 42, \n",
    "          'silent': True}\n",
    "    \n",
    "    tr_data = xgb.DMatrix(train_X, train_y)\n",
    "    va_data = xgb.DMatrix(val_X, val_y)\n",
    "    \n",
    "    watchlist = [(tr_data, 'train'), (va_data, 'valid')]\n",
    "    \n",
    "    model_xgb = xgb.train(params, tr_data, 2000, watchlist, maximize=False, early_stopping_rounds = 100, verbose_eval=100)\n",
    "    \n",
    "    dtest = xgb.DMatrix(test_X)\n",
    "    xgb_pred_y = np.expm1(model_xgb.predict(dtest, ntree_limit=model_xgb.best_ntree_limit))\n",
    "    \n",
    "    return xgb_pred_y, model_xgb"
   ]
  },
  {
   "cell_type": "code",
   "execution_count": null,
   "metadata": {},
   "outputs": [
    {
     "name": "stdout",
     "output_type": "stream",
     "text": [
      "[0]\ttrain-rmse:1.01199e+07\tvalid-rmse:1.01099e+07\n",
      "Multiple eval metrics have been passed: 'valid-rmse' will be used for early stopping.\n",
      "\n",
      "Will train until valid-rmse hasn't improved in 100 rounds.\n",
      "[100]\ttrain-rmse:9.60023e+06\tvalid-rmse:9.65309e+06\n",
      "[200]\ttrain-rmse:9.13574e+06\tvalid-rmse:9.25457e+06\n",
      "[300]\ttrain-rmse:8.7221e+06\tvalid-rmse:8.91211e+06\n",
      "[400]\ttrain-rmse:8.34849e+06\tvalid-rmse:8.6124e+06\n",
      "[500]\ttrain-rmse:8.01269e+06\tvalid-rmse:8.35652e+06\n",
      "[600]\ttrain-rmse:7.71726e+06\tvalid-rmse:8.13961e+06\n",
      "[700]\ttrain-rmse:7.44931e+06\tvalid-rmse:7.95455e+06\n",
      "[800]\ttrain-rmse:7.20877e+06\tvalid-rmse:7.79836e+06\n",
      "[900]\ttrain-rmse:6.99011e+06\tvalid-rmse:7.66544e+06\n",
      "[1000]\ttrain-rmse:6.79582e+06\tvalid-rmse:7.54946e+06\n",
      "[1100]\ttrain-rmse:6.61752e+06\tvalid-rmse:7.45702e+06\n",
      "[1200]\ttrain-rmse:6.45754e+06\tvalid-rmse:7.37626e+06\n",
      "[1300]\ttrain-rmse:6.31095e+06\tvalid-rmse:7.30795e+06\n",
      "[1400]\ttrain-rmse:6.17982e+06\tvalid-rmse:7.254e+06\n",
      "[1500]\ttrain-rmse:6.0605e+06\tvalid-rmse:7.20643e+06\n",
      "[1600]\ttrain-rmse:5.94755e+06\tvalid-rmse:7.16463e+06\n",
      "[1700]\ttrain-rmse:5.84345e+06\tvalid-rmse:7.13128e+06\n",
      "[1800]\ttrain-rmse:5.74792e+06\tvalid-rmse:7.10544e+06\n",
      "[1900]\ttrain-rmse:5.65687e+06\tvalid-rmse:7.07971e+06\n",
      "[1999]\ttrain-rmse:5.57635e+06\tvalid-rmse:7.05936e+06\n"
     ]
    },
    {
     "name": "stderr",
     "output_type": "stream",
     "text": [
      "/Library/Frameworks/Python.framework/Versions/3.6/lib/python3.6/site-packages/ipykernel_launcher.py:20: RuntimeWarning: overflow encountered in expm1\n"
     ]
    },
    {
     "name": "stdout",
     "output_type": "stream",
     "text": [
      "[0]\ttrain-rmse:1.01461e+07\tvalid-rmse:1.00038e+07\n",
      "Multiple eval metrics have been passed: 'valid-rmse' will be used for early stopping.\n",
      "\n",
      "Will train until valid-rmse hasn't improved in 100 rounds.\n",
      "[100]\ttrain-rmse:9.62368e+06\tvalid-rmse:9.57519e+06\n",
      "[200]\ttrain-rmse:9.152e+06\tvalid-rmse:9.19765e+06\n",
      "[300]\ttrain-rmse:8.72936e+06\tvalid-rmse:8.87511e+06\n",
      "[400]\ttrain-rmse:8.35178e+06\tvalid-rmse:8.59598e+06\n",
      "[500]\ttrain-rmse:8.01331e+06\tvalid-rmse:8.35456e+06\n",
      "[600]\ttrain-rmse:7.71285e+06\tvalid-rmse:8.14687e+06\n",
      "[700]\ttrain-rmse:7.44465e+06\tvalid-rmse:7.97163e+06\n",
      "[800]\ttrain-rmse:7.20053e+06\tvalid-rmse:7.81792e+06\n",
      "[900]\ttrain-rmse:6.98281e+06\tvalid-rmse:7.68698e+06\n",
      "[1000]\ttrain-rmse:6.78265e+06\tvalid-rmse:7.57601e+06\n",
      "[1100]\ttrain-rmse:6.60087e+06\tvalid-rmse:7.48212e+06\n",
      "[1200]\ttrain-rmse:6.43801e+06\tvalid-rmse:7.40327e+06\n",
      "[1300]\ttrain-rmse:6.28947e+06\tvalid-rmse:7.33571e+06\n",
      "[1400]\ttrain-rmse:6.15084e+06\tvalid-rmse:7.28003e+06\n",
      "[1500]\ttrain-rmse:6.02741e+06\tvalid-rmse:7.23374e+06\n",
      "[1600]\ttrain-rmse:5.91288e+06\tvalid-rmse:7.19283e+06\n",
      "[1700]\ttrain-rmse:5.80637e+06\tvalid-rmse:7.15965e+06\n",
      "[1800]\ttrain-rmse:5.7061e+06\tvalid-rmse:7.13419e+06\n",
      "[1900]\ttrain-rmse:5.61368e+06\tvalid-rmse:7.11119e+06\n",
      "[1999]\ttrain-rmse:5.5259e+06\tvalid-rmse:7.08904e+06\n",
      "[0]\ttrain-rmse:1.00577e+07\tvalid-rmse:1.03542e+07\n",
      "Multiple eval metrics have been passed: 'valid-rmse' will be used for early stopping.\n",
      "\n",
      "Will train until valid-rmse hasn't improved in 100 rounds.\n"
     ]
    }
   ],
   "source": [
    "kf = KFold(n_splits=5)\n",
    "\n",
    "for train_index, valid_index in kf.split(train_mat):\n",
    "    train_mat = mat[train_index]\n",
    "    valid_mat = mat[valid_index]\n",
    "    train_label = labels[train_index]\n",
    "    valid_label = labels[valid_index]\n",
    "    \n",
    "    run_xgb(train_mat, train_label, valid_mat, valid_label, test_mat)\n",
    "    \n",
    "    "
   ]
  },
  {
   "cell_type": "code",
   "execution_count": 1,
   "metadata": {},
   "outputs": [],
   "source": []
  },
  {
   "cell_type": "code",
   "execution_count": 4,
   "metadata": {},
   "outputs": [],
   "source": []
  },
  {
   "cell_type": "code",
   "execution_count": null,
   "metadata": {},
   "outputs": [],
   "source": []
  },
  {
   "cell_type": "code",
   "execution_count": null,
   "metadata": {},
   "outputs": [],
   "source": [
    "Ids = test_df['ID'].tolist()\n",
    "submission = pd.DataFrame(data={'ID': pd.Series(Ids), 'target': pd.Series(result)})"
   ]
  },
  {
   "cell_type": "code",
   "execution_count": null,
   "metadata": {},
   "outputs": [],
   "source": [
    "submission.to_csv('submission.csv', index=False)"
   ]
  }
 ],
 "metadata": {
  "kernelspec": {
   "display_name": "Python 3",
   "language": "python",
   "name": "python3"
  },
  "language_info": {
   "codemirror_mode": {
    "name": "ipython",
    "version": 3
   },
   "file_extension": ".py",
   "mimetype": "text/x-python",
   "name": "python",
   "nbconvert_exporter": "python",
   "pygments_lexer": "ipython3",
   "version": "3.6.4"
  }
 },
 "nbformat": 4,
 "nbformat_minor": 2
}
